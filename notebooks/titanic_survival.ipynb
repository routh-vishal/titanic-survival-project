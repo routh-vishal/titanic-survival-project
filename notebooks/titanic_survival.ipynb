{
 "cells": [
  {
   "cell_type": "code",
   "execution_count": 1,
   "id": "9de88d7c",
   "metadata": {},
   "outputs": [],
   "source": [
    "import os\n",
    "import numpy as np\n",
    "import pandas as pd\n",
    "import matplotlib.pyplot as plt\n",
    "import seaborn as sns\n",
    "from collections import Counter\n",
    "\n",
    "# sklearn imports\n",
    "from sklearn.model_selection import train_test_split, cross_val_score, GridSearchCV\n",
    "from sklearn.impute import SimpleImputer\n",
    "from sklearn.preprocessing import StandardScaler, OneHotEncoder\n",
    "from sklearn.compose import ColumnTransformer\n",
    "from sklearn.pipeline import Pipeline\n",
    "from sklearn.linear_model import LogisticRegression\n",
    "from sklearn.ensemble import RandomForestClassifier\n",
    "from sklearn.metrics import accuracy_score, confusion_matrix, classification_report, roc_auc_score, roc_curve\n",
    "import joblib\n",
    "\n",
    "# plotting style\n",
    "sns.set_theme(style=\"whitegrid\")\n",
    "%matplotlib inline"
   ]
  },
  {
   "cell_type": "markdown",
   "id": "7ad2759a",
   "metadata": {},
   "source": [
    "# Load the data"
   ]
  },
  {
   "cell_type": "code",
   "execution_count": 3,
   "id": "28d5abde",
   "metadata": {},
   "outputs": [
    {
     "name": "stdout",
     "output_type": "stream",
     "text": [
      "Train shape: (891, 12)\n",
      "Test shape: (418, 11)\n"
     ]
    }
   ],
   "source": [
    "TRAIN_PATH = \"../data/train.csv\"\n",
    "TEST_PATH = \"../data/test.csv\"\n",
    "\n",
    "# load\n",
    "train = pd.read_csv(TRAIN_PATH)\n",
    "test = pd.read_csv(TEST_PATH)\n",
    "\n",
    "print(\"Train shape:\", train.shape)\n",
    "print(\"Test shape:\", test.shape)\n"
   ]
  },
  {
   "cell_type": "markdown",
   "id": "b141843d",
   "metadata": {},
   "source": [
    "# Quick look at the data (head, info, missing values)\n"
   ]
  },
  {
   "cell_type": "code",
   "execution_count": 4,
   "id": "7a7d47f2",
   "metadata": {},
   "outputs": [
    {
     "data": {
      "application/vnd.microsoft.datawrangler.viewer.v0+json": {
       "columns": [
        {
         "name": "index",
         "rawType": "int64",
         "type": "integer"
        },
        {
         "name": "PassengerId",
         "rawType": "int64",
         "type": "integer"
        },
        {
         "name": "Survived",
         "rawType": "int64",
         "type": "integer"
        },
        {
         "name": "Pclass",
         "rawType": "int64",
         "type": "integer"
        },
        {
         "name": "Name",
         "rawType": "object",
         "type": "string"
        },
        {
         "name": "Sex",
         "rawType": "object",
         "type": "string"
        },
        {
         "name": "Age",
         "rawType": "float64",
         "type": "float"
        },
        {
         "name": "SibSp",
         "rawType": "int64",
         "type": "integer"
        },
        {
         "name": "Parch",
         "rawType": "int64",
         "type": "integer"
        },
        {
         "name": "Ticket",
         "rawType": "object",
         "type": "string"
        },
        {
         "name": "Fare",
         "rawType": "float64",
         "type": "float"
        },
        {
         "name": "Cabin",
         "rawType": "object",
         "type": "unknown"
        },
        {
         "name": "Embarked",
         "rawType": "object",
         "type": "string"
        }
       ],
       "ref": "9a8f78fe-39cf-487a-a611-4d013d1f4e90",
       "rows": [
        [
         "0",
         "1",
         "0",
         "3",
         "Braund, Mr. Owen Harris",
         "male",
         "22.0",
         "1",
         "0",
         "A/5 21171",
         "7.25",
         null,
         "S"
        ],
        [
         "1",
         "2",
         "1",
         "1",
         "Cumings, Mrs. John Bradley (Florence Briggs Thayer)",
         "female",
         "38.0",
         "1",
         "0",
         "PC 17599",
         "71.2833",
         "C85",
         "C"
        ],
        [
         "2",
         "3",
         "1",
         "3",
         "Heikkinen, Miss. Laina",
         "female",
         "26.0",
         "0",
         "0",
         "STON/O2. 3101282",
         "7.925",
         null,
         "S"
        ],
        [
         "3",
         "4",
         "1",
         "1",
         "Futrelle, Mrs. Jacques Heath (Lily May Peel)",
         "female",
         "35.0",
         "1",
         "0",
         "113803",
         "53.1",
         "C123",
         "S"
        ],
        [
         "4",
         "5",
         "0",
         "3",
         "Allen, Mr. William Henry",
         "male",
         "35.0",
         "0",
         "0",
         "373450",
         "8.05",
         null,
         "S"
        ]
       ],
       "shape": {
        "columns": 12,
        "rows": 5
       }
      },
      "text/html": [
       "<div>\n",
       "<style scoped>\n",
       "    .dataframe tbody tr th:only-of-type {\n",
       "        vertical-align: middle;\n",
       "    }\n",
       "\n",
       "    .dataframe tbody tr th {\n",
       "        vertical-align: top;\n",
       "    }\n",
       "\n",
       "    .dataframe thead th {\n",
       "        text-align: right;\n",
       "    }\n",
       "</style>\n",
       "<table border=\"1\" class=\"dataframe\">\n",
       "  <thead>\n",
       "    <tr style=\"text-align: right;\">\n",
       "      <th></th>\n",
       "      <th>PassengerId</th>\n",
       "      <th>Survived</th>\n",
       "      <th>Pclass</th>\n",
       "      <th>Name</th>\n",
       "      <th>Sex</th>\n",
       "      <th>Age</th>\n",
       "      <th>SibSp</th>\n",
       "      <th>Parch</th>\n",
       "      <th>Ticket</th>\n",
       "      <th>Fare</th>\n",
       "      <th>Cabin</th>\n",
       "      <th>Embarked</th>\n",
       "    </tr>\n",
       "  </thead>\n",
       "  <tbody>\n",
       "    <tr>\n",
       "      <th>0</th>\n",
       "      <td>1</td>\n",
       "      <td>0</td>\n",
       "      <td>3</td>\n",
       "      <td>Braund, Mr. Owen Harris</td>\n",
       "      <td>male</td>\n",
       "      <td>22.0</td>\n",
       "      <td>1</td>\n",
       "      <td>0</td>\n",
       "      <td>A/5 21171</td>\n",
       "      <td>7.2500</td>\n",
       "      <td>NaN</td>\n",
       "      <td>S</td>\n",
       "    </tr>\n",
       "    <tr>\n",
       "      <th>1</th>\n",
       "      <td>2</td>\n",
       "      <td>1</td>\n",
       "      <td>1</td>\n",
       "      <td>Cumings, Mrs. John Bradley (Florence Briggs Th...</td>\n",
       "      <td>female</td>\n",
       "      <td>38.0</td>\n",
       "      <td>1</td>\n",
       "      <td>0</td>\n",
       "      <td>PC 17599</td>\n",
       "      <td>71.2833</td>\n",
       "      <td>C85</td>\n",
       "      <td>C</td>\n",
       "    </tr>\n",
       "    <tr>\n",
       "      <th>2</th>\n",
       "      <td>3</td>\n",
       "      <td>1</td>\n",
       "      <td>3</td>\n",
       "      <td>Heikkinen, Miss. Laina</td>\n",
       "      <td>female</td>\n",
       "      <td>26.0</td>\n",
       "      <td>0</td>\n",
       "      <td>0</td>\n",
       "      <td>STON/O2. 3101282</td>\n",
       "      <td>7.9250</td>\n",
       "      <td>NaN</td>\n",
       "      <td>S</td>\n",
       "    </tr>\n",
       "    <tr>\n",
       "      <th>3</th>\n",
       "      <td>4</td>\n",
       "      <td>1</td>\n",
       "      <td>1</td>\n",
       "      <td>Futrelle, Mrs. Jacques Heath (Lily May Peel)</td>\n",
       "      <td>female</td>\n",
       "      <td>35.0</td>\n",
       "      <td>1</td>\n",
       "      <td>0</td>\n",
       "      <td>113803</td>\n",
       "      <td>53.1000</td>\n",
       "      <td>C123</td>\n",
       "      <td>S</td>\n",
       "    </tr>\n",
       "    <tr>\n",
       "      <th>4</th>\n",
       "      <td>5</td>\n",
       "      <td>0</td>\n",
       "      <td>3</td>\n",
       "      <td>Allen, Mr. William Henry</td>\n",
       "      <td>male</td>\n",
       "      <td>35.0</td>\n",
       "      <td>0</td>\n",
       "      <td>0</td>\n",
       "      <td>373450</td>\n",
       "      <td>8.0500</td>\n",
       "      <td>NaN</td>\n",
       "      <td>S</td>\n",
       "    </tr>\n",
       "  </tbody>\n",
       "</table>\n",
       "</div>"
      ],
      "text/plain": [
       "   PassengerId  Survived  Pclass  \\\n",
       "0            1         0       3   \n",
       "1            2         1       1   \n",
       "2            3         1       3   \n",
       "3            4         1       1   \n",
       "4            5         0       3   \n",
       "\n",
       "                                                Name     Sex   Age  SibSp  \\\n",
       "0                            Braund, Mr. Owen Harris    male  22.0      1   \n",
       "1  Cumings, Mrs. John Bradley (Florence Briggs Th...  female  38.0      1   \n",
       "2                             Heikkinen, Miss. Laina  female  26.0      0   \n",
       "3       Futrelle, Mrs. Jacques Heath (Lily May Peel)  female  35.0      1   \n",
       "4                           Allen, Mr. William Henry    male  35.0      0   \n",
       "\n",
       "   Parch            Ticket     Fare Cabin Embarked  \n",
       "0      0         A/5 21171   7.2500   NaN        S  \n",
       "1      0          PC 17599  71.2833   C85        C  \n",
       "2      0  STON/O2. 3101282   7.9250   NaN        S  \n",
       "3      0            113803  53.1000  C123        S  \n",
       "4      0            373450   8.0500   NaN        S  "
      ]
     },
     "metadata": {},
     "output_type": "display_data"
    },
    {
     "name": "stdout",
     "output_type": "stream",
     "text": [
      "\n",
      "--- Info ---\n",
      "<class 'pandas.core.frame.DataFrame'>\n",
      "RangeIndex: 891 entries, 0 to 890\n",
      "Data columns (total 12 columns):\n",
      " #   Column       Non-Null Count  Dtype  \n",
      "---  ------       --------------  -----  \n",
      " 0   PassengerId  891 non-null    int64  \n",
      " 1   Survived     891 non-null    int64  \n",
      " 2   Pclass       891 non-null    int64  \n",
      " 3   Name         891 non-null    object \n",
      " 4   Sex          891 non-null    object \n",
      " 5   Age          714 non-null    float64\n",
      " 6   SibSp        891 non-null    int64  \n",
      " 7   Parch        891 non-null    int64  \n",
      " 8   Ticket       891 non-null    object \n",
      " 9   Fare         891 non-null    float64\n",
      " 10  Cabin        204 non-null    object \n",
      " 11  Embarked     889 non-null    object \n",
      "dtypes: float64(2), int64(5), object(5)\n",
      "memory usage: 83.7+ KB\n",
      "None\n",
      "\n",
      "--- Missing values (train) ---\n",
      "Cabin          687\n",
      "Age            177\n",
      "Embarked         2\n",
      "PassengerId      0\n",
      "Name             0\n",
      "Pclass           0\n",
      "Survived         0\n",
      "Sex              0\n",
      "Parch            0\n",
      "SibSp            0\n",
      "dtype: int64\n",
      "\n",
      "--- Missing values (test) ---\n",
      "Cabin          327\n",
      "Age             86\n",
      "Fare             1\n",
      "Name             0\n",
      "Pclass           0\n",
      "PassengerId      0\n",
      "Sex              0\n",
      "Parch            0\n",
      "SibSp            0\n",
      "Ticket           0\n",
      "dtype: int64\n"
     ]
    }
   ],
   "source": [
    "display(train.head())\n",
    "print(\"\\n--- Info ---\")\n",
    "print(train.info())\n",
    "print(\"\\n--- Missing values (train) ---\")\n",
    "print(train.isnull().sum().sort_values(ascending=False).head(10))\n",
    "\n",
    "print(\"\\n--- Missing values (test) ---\")\n",
    "print(test.isnull().sum().sort_values(ascending=False).head(10))\n"
   ]
  },
  {
   "cell_type": "markdown",
   "id": "cdda2419",
   "metadata": {},
   "source": [
    "# 4) Target distribution & basic EDA\n",
    "\n",
    "Let's inspect survival balance and some univariate distributions.\n"
   ]
  },
  {
   "cell_type": "code",
   "execution_count": 5,
   "id": "ed6a9471",
   "metadata": {},
   "outputs": [
    {
     "data": {
      "image/png": "[encoded data removed]",
      "text/plain": [
       "<Figure size 600x400 with 1 Axes>"
      ]
     },
     "metadata": {},
     "output_type": "display_data"
    },
    {
     "data": {
      "image/png": "[encoded data removed]",
      "text/plain": [
       "<Figure size 800x400 with 1 Axes>"
      ]
     },
     "metadata": {},
     "output_type": "display_data"
    },
    {
     "data": {
      "image/png": "[encoded data removed]",
      "text/plain": [
       "<Figure size 800x400 with 1 Axes>"
      ]
     },
     "metadata": {},
     "output_type": "display_data"
    }
   ],
   "source": [
    "# Target distribution\n",
    "plt.figure(figsize=(6,4))\n",
    "sns.countplot(x='Survived', data=train)\n",
    "plt.title(\"Survived distribution (train)\")\n",
    "plt.xticks([0,1], [\"Died (0)\", \"Survived (1)\"])\n",
    "plt.show()\n",
    "\n",
    "# Age distribution\n",
    "plt.figure(figsize=(8,4))\n",
    "sns.histplot(train['Age'].dropna(), kde=True, bins=30)\n",
    "plt.title(\"Age distribution (train)\")\n",
    "plt.show()\n",
    "\n",
    "# Fare distribution (log-scale for visualization)\n",
    "plt.figure(figsize=(8,4))\n",
    "sns.histplot(train['Fare'].dropna(), bins=40)\n",
    "plt.title(\"Fare distribution (train)\")\n",
    "plt.show()\n"
   ]
  },
  {
   "cell_type": "markdown",
   "id": "ed8ff748",
   "metadata": {},
   "source": [
    "# 5) Bivariate analysis: features vs target\n",
    "\n",
    "See how sex, class, embarcation relate to survival.\n"
   ]
  },
  {
   "cell_type": "code",
   "execution_count": 6,
   "id": "28e10a65",
   "metadata": {},
   "outputs": [
    {
     "data": {
      "image/png": "[encoded data removed]",
      "text/plain": [
       "<Figure size 600x400 with 1 Axes>"
      ]
     },
     "metadata": {},
     "output_type": "display_data"
    },
    {
     "data": {
      "image/png": "[encoded data removed]",
      "text/plain": [
       "<Figure size 600x400 with 1 Axes>"
      ]
     },
     "metadata": {},
     "output_type": "display_data"
    },
    {
     "data": {
      "image/png": "[encoded data removed]",
      "text/plain": [
       "<Figure size 800x400 with 1 Axes>"
      ]
     },
     "metadata": {},
     "output_type": "display_data"
    }
   ],
   "source": [
    "# Survival by Sex\n",
    "plt.figure(figsize=(6,4))\n",
    "sns.barplot(x='Sex', y='Survived', data=train)\n",
    "plt.title(\"Survival rate by Sex\")\n",
    "plt.show()\n",
    "\n",
    "# Survival by Pclass\n",
    "plt.figure(figsize=(6,4))\n",
    "sns.barplot(x='Pclass', y='Survived', data=train)\n",
    "plt.title(\"Survival rate by Pclass\")\n",
    "plt.show()\n",
    "\n",
    "# Survival vs Age (age bins)\n",
    "train['AgeBin'] = pd.cut(train['Age'], bins=[0,12,20,40,60,80], labels=['Child','Teen','Adult','Mid','Senior'])\n",
    "plt.figure(figsize=(8,4))\n",
    "sns.barplot(x='AgeBin', y='Survived', data=train, order=['Child','Teen','Adult','Mid','Senior'])\n",
    "plt.title(\"Survival by Age group\")\n",
    "plt.show()\n",
    "train.drop(columns=['AgeBin'], inplace=True)\n"
   ]
  },
  {
   "cell_type": "markdown",
   "id": "cbc487f9",
   "metadata": {},
   "source": [
    "# 6) Feature engineering: create helpful features\n",
    "\n",
    "We'll create:\n",
    "- `Title` from Name (Mr, Mrs, Miss, Master, Rare)\n",
    "- `FamilySize` = SibSp + Parch + 1\n",
    "- `IsAlone` from FamilySize\n",
    "- `Deck` from Cabin (optional; many NA)\n"
   ]
  },
  {
   "cell_type": "code",
   "execution_count": 7,
   "id": "89a45e81",
   "metadata": {},
   "outputs": [
    {
     "name": "stdout",
     "output_type": "stream",
     "text": [
      "Titles in train: {'Mr': 517, 'Miss': 183, 'Mrs': 126, 'Master': 40, 'Rare': 25}\n"
     ]
    },
    {
     "data": {
      "application/vnd.microsoft.datawrangler.viewer.v0+json": {
       "columns": [
        {
         "name": "index",
         "rawType": "int64",
         "type": "integer"
        },
        {
         "name": "Title",
         "rawType": "object",
         "type": "string"
        },
        {
         "name": "FamilySize",
         "rawType": "int64",
         "type": "integer"
        },
        {
         "name": "IsAlone",
         "rawType": "int64",
         "type": "integer"
        },
        {
         "name": "Deck",
         "rawType": "object",
         "type": "unknown"
        }
       ],
       "ref": "3d8a134c-1ebe-4d83-b8d0-fc09ed0bd047",
       "rows": [
        [
         "0",
         "Mr",
         "2",
         "0",
         null
        ],
        [
         "1",
         "Mrs",
         "2",
         "0",
         "C"
        ],
        [
         "2",
         "Miss",
         "1",
         "1",
         null
        ],
        [
         "3",
         "Mrs",
         "2",
         "0",
         "C"
        ],
        [
         "4",
         "Mr",
         "1",
         "1",
         null
        ]
       ],
       "shape": {
        "columns": 4,
        "rows": 5
       }
      },
      "text/html": [
       "<div>\n",
       "<style scoped>\n",
       "    .dataframe tbody tr th:only-of-type {\n",
       "        vertical-align: middle;\n",
       "    }\n",
       "\n",
       "    .dataframe tbody tr th {\n",
       "        vertical-align: top;\n",
       "    }\n",
       "\n",
       "    .dataframe thead th {\n",
       "        text-align: right;\n",
       "    }\n",
       "</style>\n",
       "<table border=\"1\" class=\"dataframe\">\n",
       "  <thead>\n",
       "    <tr style=\"text-align: right;\">\n",
       "      <th></th>\n",
       "      <th>Title</th>\n",
       "      <th>FamilySize</th>\n",
       "      <th>IsAlone</th>\n",
       "      <th>Deck</th>\n",
       "    </tr>\n",
       "  </thead>\n",
       "  <tbody>\n",
       "    <tr>\n",
       "      <th>0</th>\n",
       "      <td>Mr</td>\n",
       "      <td>2</td>\n",
       "      <td>0</td>\n",
       "      <td>NaN</td>\n",
       "    </tr>\n",
       "    <tr>\n",
       "      <th>1</th>\n",
       "      <td>Mrs</td>\n",
       "      <td>2</td>\n",
       "      <td>0</td>\n",
       "      <td>C</td>\n",
       "    </tr>\n",
       "    <tr>\n",
       "      <th>2</th>\n",
       "      <td>Miss</td>\n",
       "      <td>1</td>\n",
       "      <td>1</td>\n",
       "      <td>NaN</td>\n",
       "    </tr>\n",
       "    <tr>\n",
       "      <th>3</th>\n",
       "      <td>Mrs</td>\n",
       "      <td>2</td>\n",
       "      <td>0</td>\n",
       "      <td>C</td>\n",
       "    </tr>\n",
       "    <tr>\n",
       "      <th>4</th>\n",
       "      <td>Mr</td>\n",
       "      <td>1</td>\n",
       "      <td>1</td>\n",
       "      <td>NaN</td>\n",
       "    </tr>\n",
       "  </tbody>\n",
       "</table>\n",
       "</div>"
      ],
      "text/plain": [
       "  Title  FamilySize  IsAlone Deck\n",
       "0    Mr           2        0  NaN\n",
       "1   Mrs           2        0    C\n",
       "2  Miss           1        1  NaN\n",
       "3   Mrs           2        0    C\n",
       "4    Mr           1        1  NaN"
      ]
     },
     "metadata": {},
     "output_type": "display_data"
    }
   ],
   "source": [
    "def extract_title(name):\n",
    "    if pd.isna(name):\n",
    "        return \"None\"\n",
    "    # common format: \"Last, Title. First\"\n",
    "    title = name.split(',')[1].split('.')[0].strip()\n",
    "    return title\n",
    "\n",
    "def simplify_title(title):\n",
    "    # Map many rare titles to 'Rare' and standardize\n",
    "    title = title.lower()\n",
    "    if title in ['mr', 'mrs', 'miss', 'master']:\n",
    "        return title.title()\n",
    "    if title in ['ms']:\n",
    "        return 'Miss'\n",
    "    if title in ['mme', 'mademoiselle']:\n",
    "        return 'Mrs'\n",
    "    # everything else rare\n",
    "    return 'Rare'\n",
    "\n",
    "def add_features(df):\n",
    "    df = df.copy()\n",
    "    # Title\n",
    "    df['Title'] = df['Name'].apply(extract_title).apply(simplify_title)\n",
    "    # Family size\n",
    "    df['FamilySize'] = df['SibSp'] + df['Parch'] + 1\n",
    "    df['IsAlone'] = (df['FamilySize'] == 1).astype(int)\n",
    "    # Deck (first letter of Cabin). Will be NaN if Cabin missing.\n",
    "    df['Deck'] = df['Cabin'].apply(lambda x: str(x)[0] if pd.notna(x) else np.nan)\n",
    "    return df\n",
    "\n",
    "train_fe = add_features(train)\n",
    "test_fe = add_features(test)\n",
    "\n",
    "print(\"Titles in train:\", train_fe['Title'].value_counts().to_dict())\n",
    "display(train_fe[['Title','FamilySize','IsAlone','Deck']].head())\n"
   ]
  },
  {
   "cell_type": "markdown",
   "id": "da9a1986",
   "metadata": {},
   "source": [
    "# 7) Handle missing values with domain-specific logic\n",
    "\n",
    "Strategy:\n",
    "- Fill `Embarked` with mode\n",
    "- Fill `Fare` missing in test with median\n",
    "- Impute `Age` by median of `Title` groups when available, else overall median\n",
    "- Drop `Cabin` (too many missing) — we keep `Deck` if desired but it has lots of missing\n"
   ]
  },
  {
   "cell_type": "code",
   "execution_count": 9,
   "id": "b65d53c0",
   "metadata": {},
   "outputs": [
    {
     "name": "stdout",
     "output_type": "stream",
     "text": [
      "Missing values after cleaning (train):\n",
      "Deck           687\n",
      "Survived         0\n",
      "PassengerId      0\n",
      "Name             0\n",
      "Sex              0\n",
      "Age              0\n",
      "Pclass           0\n",
      "SibSp            0\n",
      "Parch            0\n",
      "Fare             0\n",
      "dtype: int64\n",
      "\n",
      "Missing values after cleaning (test):\n",
      "Deck           327\n",
      "PassengerId      0\n",
      "Name             0\n",
      "Sex              0\n",
      "Age              0\n",
      "Pclass           0\n",
      "SibSp            0\n",
      "Parch            0\n",
      "Fare             0\n",
      "Ticket           0\n",
      "dtype: int64\n"
     ]
    }
   ],
   "source": [
    "# Copy dataframes to avoid modifying originals\n",
    "train_clean = train_fe.copy()\n",
    "test_clean = test_fe.copy()\n",
    "\n",
    "# Embarked -> fill with mode\n",
    "for df in [train_clean, test_clean]:\n",
    "    if 'Embarked' in df.columns:\n",
    "        df['Embarked']=df['Embarked'].fillna(df['Embarked'].mode()[0])\n",
    "\n",
    "# Fare -> fill with median (test may have missing Fare)\n",
    "test_clean['Fare']=test_clean['Fare'].fillna(test_clean['Fare'].median())\n",
    "\n",
    "# Age -> fill by Title median\n",
    "title_age_median = train_clean.groupby('Title')['Age'].median()\n",
    "# fallback median\n",
    "overall_age_median = train_clean['Age'].median()\n",
    "\n",
    "def fill_age_by_title(row):\n",
    "    if pd.notna(row['Age']):\n",
    "        return row['Age']\n",
    "    title = row['Title']\n",
    "    if pd.notna(title) and title in title_age_median.index and pd.notna(title_age_median.loc[title]):\n",
    "        return title_age_median.loc[title]\n",
    "    return overall_age_median\n",
    "\n",
    "train_clean['Age'] = train_clean.apply(fill_age_by_title, axis=1)\n",
    "test_clean['Age']  = test_clean.apply(fill_age_by_title, axis=1)\n",
    "\n",
    "# Drop Cabin column (we have Deck but it's sparse)\n",
    "for df in [train_clean, test_clean]:\n",
    "    if 'Cabin' in df.columns:\n",
    "        df.drop(columns=['Cabin'], inplace=True)\n",
    "\n",
    "# Quick check\n",
    "print(\"Missing values after cleaning (train):\")\n",
    "print(train_clean.isnull().sum().sort_values(ascending=False).head(10))\n",
    "print(\"\\nMissing values after cleaning (test):\")\n",
    "print(test_clean.isnull().sum().sort_values(ascending=False).head(10))\n"
   ]
  },
  {
   "cell_type": "markdown",
   "id": "5be8dbb8",
   "metadata": {},
   "source": [
    "# 8) Prepare final feature list & split target\n",
    "\n",
    "We'll select a set of features (mix of numeric & categorical) and prepare X/y.\n"
   ]
  },
  {
   "cell_type": "code",
   "execution_count": 10,
   "id": "18f567b1",
   "metadata": {},
   "outputs": [
    {
     "name": "stdout",
     "output_type": "stream",
     "text": [
      "X shape: (891, 11)\n"
     ]
    },
    {
     "data": {
      "application/vnd.microsoft.datawrangler.viewer.v0+json": {
       "columns": [
        {
         "name": "index",
         "rawType": "int64",
         "type": "integer"
        },
        {
         "name": "Pclass",
         "rawType": "int64",
         "type": "integer"
        },
        {
         "name": "Sex",
         "rawType": "object",
         "type": "string"
        },
        {
         "name": "Age",
         "rawType": "float64",
         "type": "float"
        },
        {
         "name": "SibSp",
         "rawType": "int64",
         "type": "integer"
        },
        {
         "name": "Parch",
         "rawType": "int64",
         "type": "integer"
        },
        {
         "name": "Fare",
         "rawType": "float64",
         "type": "float"
        },
        {
         "name": "Embarked",
         "rawType": "object",
         "type": "string"
        },
        {
         "name": "Title",
         "rawType": "object",
         "type": "string"
        },
        {
         "name": "FamilySize",
         "rawType": "int64",
         "type": "integer"
        },
        {
         "name": "IsAlone",
         "rawType": "int64",
         "type": "integer"
        },
        {
         "name": "Deck",
         "rawType": "object",
         "type": "unknown"
        }
       ],
       "ref": "3c41752a-ddf9-4e10-8248-2799ca466b89",
       "rows": [
        [
         "0",
         "3",
         "male",
         "22.0",
         "1",
         "0",
         "7.25",
         "S",
         "Mr",
         "2",
         "0",
         null
        ],
        [
         "1",
         "1",
         "female",
         "38.0",
         "1",
         "0",
         "71.2833",
         "C",
         "Mrs",
         "2",
         "0",
         "C"
        ],
        [
         "2",
         "3",
         "female",
         "26.0",
         "0",
         "0",
         "7.925",
         "S",
         "Miss",
         "1",
         "1",
         null
        ],
        [
         "3",
         "1",
         "female",
         "35.0",
         "1",
         "0",
         "53.1",
         "S",
         "Mrs",
         "2",
         "0",
         "C"
        ],
        [
         "4",
         "3",
         "male",
         "35.0",
         "0",
         "0",
         "8.05",
         "S",
         "Mr",
         "1",
         "1",
         null
        ]
       ],
       "shape": {
        "columns": 11,
        "rows": 5
       }
      },
      "text/html": [
       "<div>\n",
       "<style scoped>\n",
       "    .dataframe tbody tr th:only-of-type {\n",
       "        vertical-align: middle;\n",
       "    }\n",
       "\n",
       "    .dataframe tbody tr th {\n",
       "        vertical-align: top;\n",
       "    }\n",
       "\n",
       "    .dataframe thead th {\n",
       "        text-align: right;\n",
       "    }\n",
       "</style>\n",
       "<table border=\"1\" class=\"dataframe\">\n",
       "  <thead>\n",
       "    <tr style=\"text-align: right;\">\n",
       "      <th></th>\n",
       "      <th>Pclass</th>\n",
       "      <th>Sex</th>\n",
       "      <th>Age</th>\n",
       "      <th>SibSp</th>\n",
       "      <th>Parch</th>\n",
       "      <th>Fare</th>\n",
       "      <th>Embarked</th>\n",
       "      <th>Title</th>\n",
       "      <th>FamilySize</th>\n",
       "      <th>IsAlone</th>\n",
       "      <th>Deck</th>\n",
       "    </tr>\n",
       "  </thead>\n",
       "  <tbody>\n",
       "    <tr>\n",
       "      <th>0</th>\n",
       "      <td>3</td>\n",
       "      <td>male</td>\n",
       "      <td>22.0</td>\n",
       "      <td>1</td>\n",
       "      <td>0</td>\n",
       "      <td>7.2500</td>\n",
       "      <td>S</td>\n",
       "      <td>Mr</td>\n",
       "      <td>2</td>\n",
       "      <td>0</td>\n",
       "      <td>NaN</td>\n",
       "    </tr>\n",
       "    <tr>\n",
       "      <th>1</th>\n",
       "      <td>1</td>\n",
       "      <td>female</td>\n",
       "      <td>38.0</td>\n",
       "      <td>1</td>\n",
       "      <td>0</td>\n",
       "      <td>71.2833</td>\n",
       "      <td>C</td>\n",
       "      <td>Mrs</td>\n",
       "      <td>2</td>\n",
       "      <td>0</td>\n",
       "      <td>C</td>\n",
       "    </tr>\n",
       "    <tr>\n",
       "      <th>2</th>\n",
       "      <td>3</td>\n",
       "      <td>female</td>\n",
       "      <td>26.0</td>\n",
       "      <td>0</td>\n",
       "      <td>0</td>\n",
       "      <td>7.9250</td>\n",
       "      <td>S</td>\n",
       "      <td>Miss</td>\n",
       "      <td>1</td>\n",
       "      <td>1</td>\n",
       "      <td>NaN</td>\n",
       "    </tr>\n",
       "    <tr>\n",
       "      <th>3</th>\n",
       "      <td>1</td>\n",
       "      <td>female</td>\n",
       "      <td>35.0</td>\n",
       "      <td>1</td>\n",
       "      <td>0</td>\n",
       "      <td>53.1000</td>\n",
       "      <td>S</td>\n",
       "      <td>Mrs</td>\n",
       "      <td>2</td>\n",
       "      <td>0</td>\n",
       "      <td>C</td>\n",
       "    </tr>\n",
       "    <tr>\n",
       "      <th>4</th>\n",
       "      <td>3</td>\n",
       "      <td>male</td>\n",
       "      <td>35.0</td>\n",
       "      <td>0</td>\n",
       "      <td>0</td>\n",
       "      <td>8.0500</td>\n",
       "      <td>S</td>\n",
       "      <td>Mr</td>\n",
       "      <td>1</td>\n",
       "      <td>1</td>\n",
       "      <td>NaN</td>\n",
       "    </tr>\n",
       "  </tbody>\n",
       "</table>\n",
       "</div>"
      ],
      "text/plain": [
       "   Pclass     Sex   Age  SibSp  Parch     Fare Embarked Title  FamilySize  \\\n",
       "0       3    male  22.0      1      0   7.2500        S    Mr           2   \n",
       "1       1  female  38.0      1      0  71.2833        C   Mrs           2   \n",
       "2       3  female  26.0      0      0   7.9250        S  Miss           1   \n",
       "3       1  female  35.0      1      0  53.1000        S   Mrs           2   \n",
       "4       3    male  35.0      0      0   8.0500        S    Mr           1   \n",
       "\n",
       "   IsAlone Deck  \n",
       "0        0  NaN  \n",
       "1        0    C  \n",
       "2        1  NaN  \n",
       "3        0    C  \n",
       "4        1  NaN  "
      ]
     },
     "metadata": {},
     "output_type": "display_data"
    }
   ],
   "source": [
    "# Feature selection\n",
    "features = ['Pclass', 'Sex', 'Age', 'SibSp', 'Parch', 'Fare', 'Embarked', 'Title', 'FamilySize', 'IsAlone', 'Deck']\n",
    "# Note: Deck will have many NaNs; it will be handled by the imputer/encoder\n",
    "\n",
    "X = train_clean[features].copy()\n",
    "y = train_clean['Survived'].copy()\n",
    "\n",
    "X_test_final = test_clean[features].copy()  # for final predictions\n",
    "\n",
    "print(\"X shape:\", X.shape)\n",
    "display(X.head())"
   ]
  },
  {
   "cell_type": "markdown",
   "id": "ea5409ee",
   "metadata": {},
   "source": [
    "# 9) Split into training and validation sets\n",
    "\n",
    "We'll use an 80/20 split for local evaluation (stratify by `y`).\n"
   ]
  },
  {
   "cell_type": "code",
   "execution_count": 11,
   "id": "55a51f46",
   "metadata": {},
   "outputs": [
    {
     "name": "stdout",
     "output_type": "stream",
     "text": [
      "Train: (712, 11) Validation: (179, 11)\n"
     ]
    }
   ],
   "source": [
    "X_train, X_val, y_train, y_val = train_test_split(\n",
    "    X, y, test_size=0.20, random_state=42, stratify=y\n",
    ")\n",
    "print(\"Train:\", X_train.shape, \"Validation:\", X_val.shape)\n"
   ]
  },
  {
   "cell_type": "markdown",
   "id": "a177bd09",
   "metadata": {},
   "source": [
    "# 10) Build preprocessing pipeline\n",
    "\n",
    "We will:\n",
    "- Impute numeric columns by median and scale them\n",
    "- Impute categorical columns by most frequent and one-hot encode them\n",
    "- Combine using `ColumnTransformer` so the pipeline can be used on train & test equally\n"
   ]
  },
  {
   "cell_type": "code",
   "execution_count": 13,
   "id": "97086598",
   "metadata": {},
   "outputs": [
    {
     "name": "stdout",
     "output_type": "stream",
     "text": [
      "Preprocessor fitted.\n"
     ]
    }
   ],
   "source": [
    "from sklearn.pipeline import Pipeline\n",
    "from sklearn.preprocessing import OneHotEncoder\n",
    "from sklearn.impute import SimpleImputer\n",
    "from sklearn.compose import ColumnTransformer\n",
    "\n",
    "numeric_features = ['Age', 'SibSp', 'Parch', 'Fare', 'FamilySize']\n",
    "categorical_features = ['Pclass', 'Sex', 'Embarked', 'Title', 'IsAlone', 'Deck']\n",
    "\n",
    "numeric_transformer = Pipeline(steps=[\n",
    "    ('imputer', SimpleImputer(strategy='median')),\n",
    "    ('scaler', StandardScaler())\n",
    "])\n",
    "\n",
    "categorical_transformer = Pipeline(steps=[\n",
    "    ('imputer', SimpleImputer(strategy='most_frequent')),\n",
    "    ('onehot', OneHotEncoder(handle_unknown='ignore', sparse_output=False))\n",
    "])\n",
    "\n",
    "preprocessor = ColumnTransformer(transformers=[\n",
    "    ('num', numeric_transformer, numeric_features),\n",
    "    ('cat', categorical_transformer, categorical_features)\n",
    "], remainder='drop')\n",
    "\n",
    "# Test that preprocessor can fit-transform training data\n",
    "preprocessor.fit(X_train)\n",
    "print(\"Preprocessor fitted.\")\n"
   ]
  },
  {
   "cell_type": "markdown",
   "id": "d000e149",
   "metadata": {},
   "source": [
    "# 11) Baseline model pipelines\n",
    "\n",
    "We'll create two pipelines:\n",
    "- Logistic Regression (simple, interpretable)\n",
    "- Random Forest (powerful tree-based)\n"
   ]
  },
  {
   "cell_type": "code",
   "execution_count": 15,
   "id": "a7ac60d0",
   "metadata": {},
   "outputs": [
    {
     "name": "stdout",
     "output_type": "stream",
     "text": [
      "Logistic CV: 0.8188811188811188\n",
      "RandomForest CV: 0.7922387471683245\n"
     ]
    }
   ],
   "source": [
    "# Logistic Regression pipeline\n",
    "log_pipe = Pipeline(steps=[\n",
    "    ('preprocessor', preprocessor),\n",
    "    ('clf', LogisticRegression(max_iter=1000, random_state=42))\n",
    "])\n",
    "\n",
    "# Random Forest pipeline\n",
    "rf_pipe = Pipeline(steps=[\n",
    "    ('preprocessor', preprocessor),\n",
    "    ('clf', RandomForestClassifier(n_estimators=100, random_state=42))\n",
    "])\n",
    "\n",
    "# Quick cross-validation (5-fold) to get baseline scores\n",
    "from sklearn.model_selection import cross_val_score\n",
    "print(\"Logistic CV:\", np.mean(cross_val_score(log_pipe, X_train, y_train, cv=5, scoring='accuracy')))\n",
    "print(\"RandomForest CV:\", np.mean(cross_val_score(rf_pipe, X_train, y_train, cv=5, scoring='accuracy')))\n"
   ]
  },
  {
   "cell_type": "markdown",
   "id": "c2512e9f",
   "metadata": {},
   "source": [
    "# 12) Train on training set and evaluate on validation set\n",
    "\n",
    "Fit both pipelines and compute accuracy, classification report, confusion matrix, and ROC AUC.\n"
   ]
  },
  {
   "cell_type": "code",
   "execution_count": 16,
   "id": "82532b70",
   "metadata": {},
   "outputs": [
    {
     "name": "stdout",
     "output_type": "stream",
     "text": [
      "Logistic Regression\n",
      "Accuracy: 0.8603351955307262\n",
      "              precision    recall  f1-score   support\n",
      "\n",
      "           0       0.87      0.91      0.89       110\n",
      "           1       0.84      0.78      0.81        69\n",
      "\n",
      "    accuracy                           0.86       179\n",
      "   macro avg       0.86      0.85      0.85       179\n",
      "weighted avg       0.86      0.86      0.86       179\n",
      "\n",
      "ROC AUC: 0.8735177865612647\n",
      "Confusion Matrix:\n",
      " [[100  10]\n",
      " [ 15  54]]\n",
      "\n",
      "Random Forest\n",
      "Accuracy: 0.7988826815642458\n",
      "              precision    recall  f1-score   support\n",
      "\n",
      "           0       0.82      0.86      0.84       110\n",
      "           1       0.76      0.70      0.73        69\n",
      "\n",
      "    accuracy                           0.80       179\n",
      "   macro avg       0.79      0.78      0.78       179\n",
      "weighted avg       0.80      0.80      0.80       179\n",
      "\n",
      "ROC AUC: 0.8228590250329382\n",
      "Confusion Matrix:\n",
      " [[95 15]\n",
      " [21 48]]\n"
     ]
    }
   ],
   "source": [
    "# Fit Logistic Regression\n",
    "log_pipe.fit(X_train, y_train)\n",
    "y_pred_log = log_pipe.predict(X_val)\n",
    "y_prob_log = log_pipe.predict_proba(X_val)[:,1]\n",
    "\n",
    "print(\"Logistic Regression\")\n",
    "print(\"Accuracy:\", accuracy_score(y_val, y_pred_log))\n",
    "print(classification_report(y_val, y_pred_log))\n",
    "print(\"ROC AUC:\", roc_auc_score(y_val, y_prob_log))\n",
    "print(\"Confusion Matrix:\\n\", confusion_matrix(y_val, y_pred_log))\n",
    "\n",
    "# Fit Random Forest\n",
    "rf_pipe.fit(X_train, y_train)\n",
    "y_pred_rf = rf_pipe.predict(X_val)\n",
    "y_prob_rf = rf_pipe.predict_proba(X_val)[:,1]\n",
    "\n",
    "print(\"\\nRandom Forest\")\n",
    "print(\"Accuracy:\", accuracy_score(y_val, y_pred_rf))\n",
    "print(classification_report(y_val, y_pred_rf))\n",
    "print(\"ROC AUC:\", roc_auc_score(y_val, y_prob_rf))\n",
    "print(\"Confusion Matrix:\\n\", confusion_matrix(y_val, y_pred_rf))\n"
   ]
  },
  {
   "cell_type": "markdown",
   "id": "eada31fc",
   "metadata": {},
   "source": [
    "# 13) ROC curve comparison\n",
    "\n",
    "Plot ROC curves for both models on the validation set.\n"
   ]
  },
  {
   "cell_type": "code",
   "execution_count": 17,
   "id": "5d1933a2",
   "metadata": {},
   "outputs": [
    {
     "data": {
      "image/png": "[encoded data removed]",
      "text/plain": [
       "<Figure size 800x600 with 1 Axes>"
      ]
     },
     "metadata": {},
     "output_type": "display_data"
    }
   ],
   "source": [
    "fpr_log, tpr_log, _ = roc_curve(y_val, y_prob_log)\n",
    "fpr_rf, tpr_rf, _ = roc_curve(y_val, y_prob_rf)\n",
    "\n",
    "plt.figure(figsize=(8,6))\n",
    "plt.plot(fpr_log, tpr_log, label=f'Logistic (AUC={roc_auc_score(y_val,y_prob_log):.3f})')\n",
    "plt.plot(fpr_rf, tpr_rf, label=f'RandomForest (AUC={roc_auc_score(y_val,y_prob_rf):.3f})')\n",
    "plt.plot([0,1],[0,1],'k--')\n",
    "plt.xlabel(\"False Positive Rate\")\n",
    "plt.ylabel(\"True Positive Rate\")\n",
    "plt.title(\"ROC Curves\")\n",
    "plt.legend()\n",
    "plt.show()\n"
   ]
  },
  {
   "cell_type": "markdown",
   "id": "f348f618",
   "metadata": {},
   "source": [
    "# 14) Feature importance (Random Forest)\n",
    "\n",
    "To show feature importances we need the post-preprocessor feature names and the classifier's feature_importances_.\n"
   ]
  },
  {
   "cell_type": "code",
   "execution_count": 18,
   "id": "7daedc18",
   "metadata": {},
   "outputs": [
    {
     "data": {
      "image/png": "[encoded data removed]",
      "text/plain": [
       "<Figure size 1000x600 with 1 Axes>"
      ]
     },
     "metadata": {},
     "output_type": "display_data"
    },
    {
     "data": {
      "application/vnd.microsoft.datawrangler.viewer.v0+json": {
       "columns": [
        {
         "name": "index",
         "rawType": "int64",
         "type": "integer"
        },
        {
         "name": "feature",
         "rawType": "object",
         "type": "string"
        },
        {
         "name": "importance",
         "rawType": "float64",
         "type": "float"
        }
       ],
       "ref": "26880e48-8d6b-47d8-83c0-dc5eba14e3c1",
       "rows": [
        [
         "0",
         "Fare",
         "0.2062726456079124"
        ],
        [
         "1",
         "Age",
         "0.19150021748452645"
        ],
        [
         "2",
         "Title_Mr",
         "0.10550979312808771"
        ],
        [
         "3",
         "Sex_male",
         "0.09651362389574482"
        ],
        [
         "4",
         "Sex_female",
         "0.06511228514787319"
        ],
        [
         "5",
         "Pclass_3",
         "0.04168846361224375"
        ],
        [
         "6",
         "FamilySize",
         "0.04134059452807346"
        ],
        [
         "7",
         "Title_Mrs",
         "0.02986765381503569"
        ],
        [
         "8",
         "SibSp",
         "0.027395999904021945"
        ],
        [
         "9",
         "Deck_C",
         "0.024355483575895266"
        ],
        [
         "10",
         "Pclass_1",
         "0.02421491804767065"
        ],
        [
         "11",
         "Title_Miss",
         "0.020395780395455167"
        ],
        [
         "12",
         "Parch",
         "0.019639382656663706"
        ],
        [
         "13",
         "Pclass_2",
         "0.014461581244531596"
        ],
        [
         "14",
         "Embarked_S",
         "0.014108092212285896"
        ],
        [
         "15",
         "Embarked_C",
         "0.01211808815364643"
        ],
        [
         "16",
         "Deck_E",
         "0.011273595739093223"
        ],
        [
         "17",
         "Embarked_Q",
         "0.008531402625552168"
        ],
        [
         "18",
         "Deck_D",
         "0.0076184952928430435"
        ],
        [
         "19",
         "IsAlone_1",
         "0.0074435428628525195"
        ],
        [
         "20",
         "Title_Master",
         "0.006981460774223425"
        ],
        [
         "21",
         "IsAlone_0",
         "0.006647631806145317"
        ],
        [
         "22",
         "Title_Rare",
         "0.004793013811127631"
        ],
        [
         "23",
         "Deck_B",
         "0.004516139988718681"
        ],
        [
         "24",
         "Deck_A",
         "0.0030975435800796734"
        ],
        [
         "25",
         "Deck_F",
         "0.002202600899396493"
        ],
        [
         "26",
         "Deck_G",
         "0.002032142378063385"
        ],
        [
         "27",
         "Deck_T",
         "0.00036782683223634914"
        ]
       ],
       "shape": {
        "columns": 2,
        "rows": 28
       }
      },
      "text/html": [
       "<div>\n",
       "<style scoped>\n",
       "    .dataframe tbody tr th:only-of-type {\n",
       "        vertical-align: middle;\n",
       "    }\n",
       "\n",
       "    .dataframe tbody tr th {\n",
       "        vertical-align: top;\n",
       "    }\n",
       "\n",
       "    .dataframe thead th {\n",
       "        text-align: right;\n",
       "    }\n",
       "</style>\n",
       "<table border=\"1\" class=\"dataframe\">\n",
       "  <thead>\n",
       "    <tr style=\"text-align: right;\">\n",
       "      <th></th>\n",
       "      <th>feature</th>\n",
       "      <th>importance</th>\n",
       "    </tr>\n",
       "  </thead>\n",
       "  <tbody>\n",
       "    <tr>\n",
       "      <th>0</th>\n",
       "      <td>Fare</td>\n",
       "      <td>0.206273</td>\n",
       "    </tr>\n",
       "    <tr>\n",
       "      <th>1</th>\n",
       "      <td>Age</td>\n",
       "      <td>0.191500</td>\n",
       "    </tr>\n",
       "    <tr>\n",
       "      <th>2</th>\n",
       "      <td>Title_Mr</td>\n",
       "      <td>0.105510</td>\n",
       "    </tr>\n",
       "    <tr>\n",
       "      <th>3</th>\n",
       "      <td>Sex_male</td>\n",
       "      <td>0.096514</td>\n",
       "    </tr>\n",
       "    <tr>\n",
       "      <th>4</th>\n",
       "      <td>Sex_female</td>\n",
       "      <td>0.065112</td>\n",
       "    </tr>\n",
       "    <tr>\n",
       "      <th>5</th>\n",
       "      <td>Pclass_3</td>\n",
       "      <td>0.041688</td>\n",
       "    </tr>\n",
       "    <tr>\n",
       "      <th>6</th>\n",
       "      <td>FamilySize</td>\n",
       "      <td>0.041341</td>\n",
       "    </tr>\n",
       "    <tr>\n",
       "      <th>7</th>\n",
       "      <td>Title_Mrs</td>\n",
       "      <td>0.029868</td>\n",
       "    </tr>\n",
       "    <tr>\n",
       "      <th>8</th>\n",
       "      <td>SibSp</td>\n",
       "      <td>0.027396</td>\n",
       "    </tr>\n",
       "    <tr>\n",
       "      <th>9</th>\n",
       "      <td>Deck_C</td>\n",
       "      <td>0.024355</td>\n",
       "    </tr>\n",
       "    <tr>\n",
       "      <th>10</th>\n",
       "      <td>Pclass_1</td>\n",
       "      <td>0.024215</td>\n",
       "    </tr>\n",
       "    <tr>\n",
       "      <th>11</th>\n",
       "      <td>Title_Miss</td>\n",
       "      <td>0.020396</td>\n",
       "    </tr>\n",
       "    <tr>\n",
       "      <th>12</th>\n",
       "      <td>Parch</td>\n",
       "      <td>0.019639</td>\n",
       "    </tr>\n",
       "    <tr>\n",
       "      <th>13</th>\n",
       "      <td>Pclass_2</td>\n",
       "      <td>0.014462</td>\n",
       "    </tr>\n",
       "    <tr>\n",
       "      <th>14</th>\n",
       "      <td>Embarked_S</td>\n",
       "      <td>0.014108</td>\n",
       "    </tr>\n",
       "    <tr>\n",
       "      <th>15</th>\n",
       "      <td>Embarked_C</td>\n",
       "      <td>0.012118</td>\n",
       "    </tr>\n",
       "    <tr>\n",
       "      <th>16</th>\n",
       "      <td>Deck_E</td>\n",
       "      <td>0.011274</td>\n",
       "    </tr>\n",
       "    <tr>\n",
       "      <th>17</th>\n",
       "      <td>Embarked_Q</td>\n",
       "      <td>0.008531</td>\n",
       "    </tr>\n",
       "    <tr>\n",
       "      <th>18</th>\n",
       "      <td>Deck_D</td>\n",
       "      <td>0.007618</td>\n",
       "    </tr>\n",
       "    <tr>\n",
       "      <th>19</th>\n",
       "      <td>IsAlone_1</td>\n",
       "      <td>0.007444</td>\n",
       "    </tr>\n",
       "    <tr>\n",
       "      <th>20</th>\n",
       "      <td>Title_Master</td>\n",
       "      <td>0.006981</td>\n",
       "    </tr>\n",
       "    <tr>\n",
       "      <th>21</th>\n",
       "      <td>IsAlone_0</td>\n",
       "      <td>0.006648</td>\n",
       "    </tr>\n",
       "    <tr>\n",
       "      <th>22</th>\n",
       "      <td>Title_Rare</td>\n",
       "      <td>0.004793</td>\n",
       "    </tr>\n",
       "    <tr>\n",
       "      <th>23</th>\n",
       "      <td>Deck_B</td>\n",
       "      <td>0.004516</td>\n",
       "    </tr>\n",
       "    <tr>\n",
       "      <th>24</th>\n",
       "      <td>Deck_A</td>\n",
       "      <td>0.003098</td>\n",
       "    </tr>\n",
       "    <tr>\n",
       "      <th>25</th>\n",
       "      <td>Deck_F</td>\n",
       "      <td>0.002203</td>\n",
       "    </tr>\n",
       "    <tr>\n",
       "      <th>26</th>\n",
       "      <td>Deck_G</td>\n",
       "      <td>0.002032</td>\n",
       "    </tr>\n",
       "    <tr>\n",
       "      <th>27</th>\n",
       "      <td>Deck_T</td>\n",
       "      <td>0.000368</td>\n",
       "    </tr>\n",
       "  </tbody>\n",
       "</table>\n",
       "</div>"
      ],
      "text/plain": [
       "         feature  importance\n",
       "0           Fare    0.206273\n",
       "1            Age    0.191500\n",
       "2       Title_Mr    0.105510\n",
       "3       Sex_male    0.096514\n",
       "4     Sex_female    0.065112\n",
       "5       Pclass_3    0.041688\n",
       "6     FamilySize    0.041341\n",
       "7      Title_Mrs    0.029868\n",
       "8          SibSp    0.027396\n",
       "9         Deck_C    0.024355\n",
       "10      Pclass_1    0.024215\n",
       "11    Title_Miss    0.020396\n",
       "12         Parch    0.019639\n",
       "13      Pclass_2    0.014462\n",
       "14    Embarked_S    0.014108\n",
       "15    Embarked_C    0.012118\n",
       "16        Deck_E    0.011274\n",
       "17    Embarked_Q    0.008531\n",
       "18        Deck_D    0.007618\n",
       "19     IsAlone_1    0.007444\n",
       "20  Title_Master    0.006981\n",
       "21     IsAlone_0    0.006648\n",
       "22    Title_Rare    0.004793\n",
       "23        Deck_B    0.004516\n",
       "24        Deck_A    0.003098\n",
       "25        Deck_F    0.002203\n",
       "26        Deck_G    0.002032\n",
       "27        Deck_T    0.000368"
      ]
     },
     "metadata": {},
     "output_type": "display_data"
    }
   ],
   "source": [
    "# Extract numeric feature names (they remain as is)\n",
    "num_feats = numeric_features\n",
    "\n",
    "# Extract categorical feature names after OneHot encoding\n",
    "# We need to get fitted OneHotEncoder to obtain categories\n",
    "ohe = rf_pipe.named_steps['preprocessor'].named_transformers_['cat'].named_steps['onehot']\n",
    "try:\n",
    "    cat_feature_names = list(ohe.get_feature_names_out(categorical_features))\n",
    "except:\n",
    "    # fallback for older sklearn versions\n",
    "    cat_feature_names = []\n",
    "    for i, cat in enumerate(categorical_features):\n",
    "        cats = ohe.categories_[i]\n",
    "        cat_feature_names += [f\"{cat}_{c}\" for c in cats]\n",
    "\n",
    "feature_names = num_feats + cat_feature_names\n",
    "\n",
    "# Get importances\n",
    "importances = rf_pipe.named_steps['clf'].feature_importances_\n",
    "\n",
    "# Build DataFrame and plot\n",
    "feat_imp_df = pd.DataFrame({'feature': feature_names, 'importance': importances})\n",
    "feat_imp_df = feat_imp_df.sort_values(by='importance', ascending=False).reset_index(drop=True)\n",
    "plt.figure(figsize=(10,6))\n",
    "sns.barplot(x='importance', y='feature', data=feat_imp_df.head(20))\n",
    "plt.title(\"Top 20 Feature Importances (Random Forest)\")\n",
    "plt.show()\n",
    "\n",
    "display(feat_imp_df.head(30))\n"
   ]
  },
  {
   "cell_type": "markdown",
   "id": "19e4911d",
   "metadata": {},
   "source": [
    "# 15) Hyperparameter tuning (Random Forest) — small GridSearchCV\n",
    "\n",
    "This is a small grid; you can expand later if you want. We'll tune `n_estimators`, `max_depth`, and `min_samples_split`.\n"
   ]
  },
  {
   "cell_type": "code",
   "execution_count": 19,
   "id": "5084cfa7",
   "metadata": {},
   "outputs": [
    {
     "name": "stdout",
     "output_type": "stream",
     "text": [
      "Fitting 5 folds for each of 12 candidates, totalling 60 fits\n",
      "Best params: {'clf__max_depth': 6, 'clf__min_samples_split': 5, 'clf__n_estimators': 200}\n",
      "Best CV score: 0.8245149216980202\n",
      "Validation accuracy (best RF): 0.8100558659217877\n",
      "Validation ROC AUC (best RF): 0.8538208168642951\n"
     ]
    }
   ],
   "source": [
    "param_grid = {\n",
    "    'clf__n_estimators': [100, 200],\n",
    "    'clf__max_depth': [None, 6, 10],\n",
    "    'clf__min_samples_split': [2, 5]\n",
    "}\n",
    "\n",
    "# Use GridSearchCV with a pipeline; scoring by accuracy\n",
    "grid_search = GridSearchCV(rf_pipe, param_grid, cv=5, scoring='accuracy', n_jobs=-1, verbose=1)\n",
    "grid_search.fit(X_train, y_train)\n",
    "\n",
    "print(\"Best params:\", grid_search.best_params_)\n",
    "print(\"Best CV score:\", grid_search.best_score_)\n",
    "\n",
    "best_rf = grid_search.best_estimator_\n",
    "# evaluate on validation set\n",
    "y_pred_best = best_rf.predict(X_val)\n",
    "y_prob_best = best_rf.predict_proba(X_val)[:,1]\n",
    "print(\"Validation accuracy (best RF):\", accuracy_score(y_val, y_pred_best))\n",
    "print(\"Validation ROC AUC (best RF):\", roc_auc_score(y_val, y_prob_best))\n"
   ]
  },
  {
   "cell_type": "markdown",
   "id": "398f92e0",
   "metadata": {},
   "source": [
    "# 16) Train final model on the *entire* training dataset\n",
    "\n",
    "Retrain the best model on full `train` data (not the local validation split) for final predictions on `test.csv`.\n"
   ]
  },
  {
   "cell_type": "code",
   "execution_count": 20,
   "id": "229b3a7c",
   "metadata": {},
   "outputs": [
    {
     "name": "stdout",
     "output_type": "stream",
     "text": [
      "Final model trained on full training data.\n"
     ]
    }
   ],
   "source": [
    "# Prepare full training data (we already have X, y from earlier)\n",
    "# If we used grid_search.best_estimator_, we can fit it on full data\n",
    "final_model = grid_search.best_estimator_\n",
    "\n",
    "# Fit on full training set\n",
    "final_model.fit(X, y)\n",
    "print(\"Final model trained on full training data.\")\n"
   ]
  },
  {
   "cell_type": "markdown",
   "id": "828d9b80",
   "metadata": {},
   "source": [
    "# 17) Create predictions for `test.csv` and build submission file\n",
    "\n",
    "Kaggle expects a CSV with `PassengerId` and `Survived` columns.\n"
   ]
  },
  {
   "cell_type": "code",
   "execution_count": 25,
   "id": "cfcbacb6",
   "metadata": {},
   "outputs": [
    {
     "name": "stdout",
     "output_type": "stream",
     "text": [
      "Submission saved to ../data/titanic_submission.csv\n"
     ]
    },
    {
     "data": {
      "application/vnd.microsoft.datawrangler.viewer.v0+json": {
       "columns": [
        {
         "name": "index",
         "rawType": "int64",
         "type": "integer"
        },
        {
         "name": "PassengerId",
         "rawType": "int64",
         "type": "integer"
        },
        {
         "name": "Survived",
         "rawType": "int64",
         "type": "integer"
        }
       ],
       "ref": "f97fcd46-309f-4a5a-b8f6-f69c5d1d848a",
       "rows": [
        [
         "0",
         "892",
         "0"
        ],
        [
         "1",
         "893",
         "0"
        ],
        [
         "2",
         "894",
         "0"
        ],
        [
         "3",
         "895",
         "0"
        ],
        [
         "4",
         "896",
         "1"
        ]
       ],
       "shape": {
        "columns": 2,
        "rows": 5
       }
      },
      "text/html": [
       "<div>\n",
       "<style scoped>\n",
       "    .dataframe tbody tr th:only-of-type {\n",
       "        vertical-align: middle;\n",
       "    }\n",
       "\n",
       "    .dataframe tbody tr th {\n",
       "        vertical-align: top;\n",
       "    }\n",
       "\n",
       "    .dataframe thead th {\n",
       "        text-align: right;\n",
       "    }\n",
       "</style>\n",
       "<table border=\"1\" class=\"dataframe\">\n",
       "  <thead>\n",
       "    <tr style=\"text-align: right;\">\n",
       "      <th></th>\n",
       "      <th>PassengerId</th>\n",
       "      <th>Survived</th>\n",
       "    </tr>\n",
       "  </thead>\n",
       "  <tbody>\n",
       "    <tr>\n",
       "      <th>0</th>\n",
       "      <td>892</td>\n",
       "      <td>0</td>\n",
       "    </tr>\n",
       "    <tr>\n",
       "      <th>1</th>\n",
       "      <td>893</td>\n",
       "      <td>0</td>\n",
       "    </tr>\n",
       "    <tr>\n",
       "      <th>2</th>\n",
       "      <td>894</td>\n",
       "      <td>0</td>\n",
       "    </tr>\n",
       "    <tr>\n",
       "      <th>3</th>\n",
       "      <td>895</td>\n",
       "      <td>0</td>\n",
       "    </tr>\n",
       "    <tr>\n",
       "      <th>4</th>\n",
       "      <td>896</td>\n",
       "      <td>1</td>\n",
       "    </tr>\n",
       "  </tbody>\n",
       "</table>\n",
       "</div>"
      ],
      "text/plain": [
       "   PassengerId  Survived\n",
       "0          892         0\n",
       "1          893         0\n",
       "2          894         0\n",
       "3          895         0\n",
       "4          896         1"
      ]
     },
     "metadata": {},
     "output_type": "display_data"
    }
   ],
   "source": [
    "# Ensure test has PassengerId\n",
    "if 'PassengerId' not in test.columns:\n",
    "    raise ValueError(\"test.csv must contain 'PassengerId' column for creating submission file.\")\n",
    "\n",
    "# Predict\n",
    "test_preds = final_model.predict(X_test_final)\n",
    "\n",
    "submission = pd.DataFrame({\n",
    "    \"PassengerId\": test['PassengerId'],\n",
    "    \"Survived\": test_preds.astype(int)\n",
    "})\n",
    "\n",
    "submission_filename = \"../data/titanic_submission.csv\"\n",
    "submission.to_csv(submission_filename, index=False)\n",
    "print(f\"Submission saved to {submission_filename}\")\n",
    "display(submission.head())\n"
   ]
  },
  {
   "cell_type": "markdown",
   "id": "1d612cc5",
   "metadata": {},
   "source": [
    "# 18) Save the final model to disk\n",
    "\n",
    "We save the whole pipeline so that preprocessing is included.\n"
   ]
  },
  {
   "cell_type": "code",
   "execution_count": 24,
   "id": "a5d75e4f",
   "metadata": {},
   "outputs": [
    {
     "name": "stdout",
     "output_type": "stream",
     "text": [
      "Saved model pipeline to ../model/titanic_final_model.joblib\n"
     ]
    }
   ],
   "source": [
    "model_filename = \"../model/titanic_final_model.joblib\"\n",
    "joblib.dump(final_model, model_filename)\n",
    "print(f\"Saved model pipeline to {model_filename}\")"
   ]
  }
 ],
 "metadata": {
  "kernelspec": {
   "display_name": "Python 3",
   "language": "python",
   "name": "python3"
  },
  "language_info": {
   "codemirror_mode": {
    "name": "ipython",
    "version": 3
   },
   "file_extension": ".py",
   "mimetype": "text/x-python",
   "name": "python",
   "nbconvert_exporter": "python",
   "pygments_lexer": "ipython3",
   "version": "3.11.9"
  }
 },
 "nbformat": 4,
 "nbformat_minor": 5
}
